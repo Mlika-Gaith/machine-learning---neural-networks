{
 "cells": [
  {
   "cell_type": "code",
   "id": "initial_id",
   "metadata": {
    "collapsed": true,
    "ExecuteTime": {
     "end_time": "2024-04-07T23:59:39.937074Z",
     "start_time": "2024-04-07T23:59:39.916072Z"
    }
   },
   "source": [
    "import pandas as pd\n",
    "import matplotlib.pyplot as plt\n",
    "import seaborn as sns\n",
    "import numpy as np\n",
    "from sklearn.model_selection import train_test_split\n",
    "from sklearn import linear_model\n",
    "from sklearn.metrics import mean_squared_error\n",
    "import pickle"
   ],
   "outputs": [],
   "execution_count": 55
  },
  {
   "metadata": {},
   "cell_type": "markdown",
   "source": "## Study and Preprocess Dataset Part",
   "id": "abfd71999aeb0077"
  },
  {
   "metadata": {
    "ExecuteTime": {
     "end_time": "2024-04-07T21:08:20.833449Z",
     "start_time": "2024-04-07T21:08:20.816457Z"
    }
   },
   "cell_type": "code",
   "source": [
    "# Adding some styles to plots\n",
    "sns.set_style(\"whitegrid\")\n",
    "# Set the figure size\n",
    "sns.set(rc={'figure.figsize': (20,16)})\n",
    "# Set the color palette\n",
    "custom_palette = [\"#a1ff0a\", \"#ff0000\", \"#deff0a\", \"#0aefff\", \"#be0aff\"]\n",
    "sns.set_palette(custom_palette)\n",
    "# Set the plots context\n",
    "sns.set_context(\"talk\", font_scale=0.5, rc={\"grid.linewidth\": 0.5})\n"
   ],
   "id": "1d22f41392df2b0f",
   "outputs": [],
   "execution_count": 2
  },
  {
   "metadata": {
    "ExecuteTime": {
     "end_time": "2024-04-07T21:08:25.849586Z",
     "start_time": "2024-04-07T21:08:25.563421Z"
    }
   },
   "cell_type": "code",
   "source": [
    "# Loading the dataset\n",
    "dataset = pd.read_csv(\"datasets/medical_insurance.csv\")\n",
    "dataset.head(10)"
   ],
   "id": "fbe64d4801e12091",
   "outputs": [
    {
     "data": {
      "text/plain": [
       "   age     sex     bmi  children smoker     region      charges\n",
       "0   19  female  27.900         0    yes  southwest  16884.92400\n",
       "1   18    male  33.770         1     no  southeast   1725.55230\n",
       "2   28    male  33.000         3     no  southeast   4449.46200\n",
       "3   33    male  22.705         0     no  northwest  21984.47061\n",
       "4   32    male  28.880         0     no  northwest   3866.85520\n",
       "5   31  female  25.740         0     no  southeast   3756.62160\n",
       "6   46  female  33.440         1     no  southeast   8240.58960\n",
       "7   37  female  27.740         3     no  northwest   7281.50560\n",
       "8   37    male  29.830         2     no  northeast   6406.41070\n",
       "9   60  female  25.840         0     no  northwest  28923.13692"
      ],
      "text/html": [
       "<div>\n",
       "<style scoped>\n",
       "    .dataframe tbody tr th:only-of-type {\n",
       "        vertical-align: middle;\n",
       "    }\n",
       "\n",
       "    .dataframe tbody tr th {\n",
       "        vertical-align: top;\n",
       "    }\n",
       "\n",
       "    .dataframe thead th {\n",
       "        text-align: right;\n",
       "    }\n",
       "</style>\n",
       "<table border=\"1\" class=\"dataframe\">\n",
       "  <thead>\n",
       "    <tr style=\"text-align: right;\">\n",
       "      <th></th>\n",
       "      <th>age</th>\n",
       "      <th>sex</th>\n",
       "      <th>bmi</th>\n",
       "      <th>children</th>\n",
       "      <th>smoker</th>\n",
       "      <th>region</th>\n",
       "      <th>charges</th>\n",
       "    </tr>\n",
       "  </thead>\n",
       "  <tbody>\n",
       "    <tr>\n",
       "      <th>0</th>\n",
       "      <td>19</td>\n",
       "      <td>female</td>\n",
       "      <td>27.900</td>\n",
       "      <td>0</td>\n",
       "      <td>yes</td>\n",
       "      <td>southwest</td>\n",
       "      <td>16884.92400</td>\n",
       "    </tr>\n",
       "    <tr>\n",
       "      <th>1</th>\n",
       "      <td>18</td>\n",
       "      <td>male</td>\n",
       "      <td>33.770</td>\n",
       "      <td>1</td>\n",
       "      <td>no</td>\n",
       "      <td>southeast</td>\n",
       "      <td>1725.55230</td>\n",
       "    </tr>\n",
       "    <tr>\n",
       "      <th>2</th>\n",
       "      <td>28</td>\n",
       "      <td>male</td>\n",
       "      <td>33.000</td>\n",
       "      <td>3</td>\n",
       "      <td>no</td>\n",
       "      <td>southeast</td>\n",
       "      <td>4449.46200</td>\n",
       "    </tr>\n",
       "    <tr>\n",
       "      <th>3</th>\n",
       "      <td>33</td>\n",
       "      <td>male</td>\n",
       "      <td>22.705</td>\n",
       "      <td>0</td>\n",
       "      <td>no</td>\n",
       "      <td>northwest</td>\n",
       "      <td>21984.47061</td>\n",
       "    </tr>\n",
       "    <tr>\n",
       "      <th>4</th>\n",
       "      <td>32</td>\n",
       "      <td>male</td>\n",
       "      <td>28.880</td>\n",
       "      <td>0</td>\n",
       "      <td>no</td>\n",
       "      <td>northwest</td>\n",
       "      <td>3866.85520</td>\n",
       "    </tr>\n",
       "    <tr>\n",
       "      <th>5</th>\n",
       "      <td>31</td>\n",
       "      <td>female</td>\n",
       "      <td>25.740</td>\n",
       "      <td>0</td>\n",
       "      <td>no</td>\n",
       "      <td>southeast</td>\n",
       "      <td>3756.62160</td>\n",
       "    </tr>\n",
       "    <tr>\n",
       "      <th>6</th>\n",
       "      <td>46</td>\n",
       "      <td>female</td>\n",
       "      <td>33.440</td>\n",
       "      <td>1</td>\n",
       "      <td>no</td>\n",
       "      <td>southeast</td>\n",
       "      <td>8240.58960</td>\n",
       "    </tr>\n",
       "    <tr>\n",
       "      <th>7</th>\n",
       "      <td>37</td>\n",
       "      <td>female</td>\n",
       "      <td>27.740</td>\n",
       "      <td>3</td>\n",
       "      <td>no</td>\n",
       "      <td>northwest</td>\n",
       "      <td>7281.50560</td>\n",
       "    </tr>\n",
       "    <tr>\n",
       "      <th>8</th>\n",
       "      <td>37</td>\n",
       "      <td>male</td>\n",
       "      <td>29.830</td>\n",
       "      <td>2</td>\n",
       "      <td>no</td>\n",
       "      <td>northeast</td>\n",
       "      <td>6406.41070</td>\n",
       "    </tr>\n",
       "    <tr>\n",
       "      <th>9</th>\n",
       "      <td>60</td>\n",
       "      <td>female</td>\n",
       "      <td>25.840</td>\n",
       "      <td>0</td>\n",
       "      <td>no</td>\n",
       "      <td>northwest</td>\n",
       "      <td>28923.13692</td>\n",
       "    </tr>\n",
       "  </tbody>\n",
       "</table>\n",
       "</div>"
      ]
     },
     "execution_count": 3,
     "metadata": {},
     "output_type": "execute_result"
    }
   ],
   "execution_count": 3
  },
  {
   "metadata": {
    "ExecuteTime": {
     "end_time": "2024-04-07T20:23:51.813089Z",
     "start_time": "2024-04-07T20:23:51.785087Z"
    }
   },
   "cell_type": "code",
   "source": [
    "# Find the number of sample\n",
    "len(dataset)"
   ],
   "id": "a4148267d913b4d0",
   "outputs": [
    {
     "data": {
      "text/plain": [
       "2772"
      ]
     },
     "execution_count": 4,
     "metadata": {},
     "output_type": "execute_result"
    }
   ],
   "execution_count": 4
  },
  {
   "metadata": {
    "ExecuteTime": {
     "end_time": "2024-04-07T20:24:09.294321Z",
     "start_time": "2024-04-07T20:24:09.281323Z"
    }
   },
   "cell_type": "code",
   "source": [
    "# Find the shape of the datset\n",
    "dataset.shape"
   ],
   "id": "45efc675cfdc739d",
   "outputs": [
    {
     "data": {
      "text/plain": [
       "(2772, 7)"
      ]
     },
     "execution_count": 5,
     "metadata": {},
     "output_type": "execute_result"
    }
   ],
   "execution_count": 5
  },
  {
   "metadata": {
    "ExecuteTime": {
     "end_time": "2024-04-07T20:24:34.935018Z",
     "start_time": "2024-04-07T20:24:34.906012Z"
    }
   },
   "cell_type": "code",
   "source": [
    "# Find the type of each column in the dataset\n",
    "dataset.dtypes"
   ],
   "id": "ae495dc0c98b4f7d",
   "outputs": [
    {
     "data": {
      "text/plain": [
       "age           int64\n",
       "sex          object\n",
       "bmi         float64\n",
       "children      int64\n",
       "smoker       object\n",
       "region       object\n",
       "charges     float64\n",
       "dtype: object"
      ]
     },
     "execution_count": 6,
     "metadata": {},
     "output_type": "execute_result"
    }
   ],
   "execution_count": 6
  },
  {
   "metadata": {
    "ExecuteTime": {
     "end_time": "2024-04-07T20:25:13.258890Z",
     "start_time": "2024-04-07T20:25:13.224893Z"
    }
   },
   "cell_type": "code",
   "source": [
    "# Check for missing values in the dataset\n",
    "dataset.isnull().sum()"
   ],
   "id": "78922c71637796f3",
   "outputs": [
    {
     "data": {
      "text/plain": [
       "age         0\n",
       "sex         0\n",
       "bmi         0\n",
       "children    0\n",
       "smoker      0\n",
       "region      0\n",
       "charges     0\n",
       "dtype: int64"
      ]
     },
     "execution_count": 7,
     "metadata": {},
     "output_type": "execute_result"
    }
   ],
   "execution_count": 7
  },
  {
   "metadata": {
    "ExecuteTime": {
     "end_time": "2024-04-07T20:25:52.429893Z",
     "start_time": "2024-04-07T20:25:52.372897Z"
    }
   },
   "cell_type": "code",
   "source": [
    "# Find the number of duplicates in the datasset\n",
    "dataset.duplicated().sum()"
   ],
   "id": "f0fa6aad341dadb4",
   "outputs": [
    {
     "data": {
      "text/plain": [
       "1435"
      ]
     },
     "execution_count": 8,
     "metadata": {},
     "output_type": "execute_result"
    }
   ],
   "execution_count": 8
  },
  {
   "metadata": {
    "ExecuteTime": {
     "end_time": "2024-04-07T20:26:30.354213Z",
     "start_time": "2024-04-07T20:26:30.320216Z"
    }
   },
   "cell_type": "code",
   "source": [
    "# Find the number of unique values \n",
    "dataset.nunique()"
   ],
   "id": "27a050ef5f974110",
   "outputs": [
    {
     "data": {
      "text/plain": [
       "age           47\n",
       "sex            2\n",
       "bmi          548\n",
       "children       6\n",
       "smoker         2\n",
       "region         4\n",
       "charges     1337\n",
       "dtype: int64"
      ]
     },
     "execution_count": 9,
     "metadata": {},
     "output_type": "execute_result"
    }
   ],
   "execution_count": 9
  },
  {
   "metadata": {
    "ExecuteTime": {
     "end_time": "2024-04-07T20:27:17.766927Z",
     "start_time": "2024-04-07T20:27:17.702927Z"
    }
   },
   "cell_type": "code",
   "source": "dataset.describe()",
   "id": "a841f543fbe1c2",
   "outputs": [
    {
     "data": {
      "text/plain": [
       "               age          bmi     children       charges\n",
       "count  2772.000000  2772.000000  2772.000000   2772.000000\n",
       "mean     39.109668    30.701349     1.101732  13261.369959\n",
       "std      14.081459     6.129449     1.214806  12151.768945\n",
       "min      18.000000    15.960000     0.000000   1121.873900\n",
       "25%      26.000000    26.220000     0.000000   4687.797000\n",
       "50%      39.000000    30.447500     1.000000   9333.014350\n",
       "75%      51.000000    34.770000     2.000000  16577.779500\n",
       "max      64.000000    53.130000     5.000000  63770.428010"
      ],
      "text/html": [
       "<div>\n",
       "<style scoped>\n",
       "    .dataframe tbody tr th:only-of-type {\n",
       "        vertical-align: middle;\n",
       "    }\n",
       "\n",
       "    .dataframe tbody tr th {\n",
       "        vertical-align: top;\n",
       "    }\n",
       "\n",
       "    .dataframe thead th {\n",
       "        text-align: right;\n",
       "    }\n",
       "</style>\n",
       "<table border=\"1\" class=\"dataframe\">\n",
       "  <thead>\n",
       "    <tr style=\"text-align: right;\">\n",
       "      <th></th>\n",
       "      <th>age</th>\n",
       "      <th>bmi</th>\n",
       "      <th>children</th>\n",
       "      <th>charges</th>\n",
       "    </tr>\n",
       "  </thead>\n",
       "  <tbody>\n",
       "    <tr>\n",
       "      <th>count</th>\n",
       "      <td>2772.000000</td>\n",
       "      <td>2772.000000</td>\n",
       "      <td>2772.000000</td>\n",
       "      <td>2772.000000</td>\n",
       "    </tr>\n",
       "    <tr>\n",
       "      <th>mean</th>\n",
       "      <td>39.109668</td>\n",
       "      <td>30.701349</td>\n",
       "      <td>1.101732</td>\n",
       "      <td>13261.369959</td>\n",
       "    </tr>\n",
       "    <tr>\n",
       "      <th>std</th>\n",
       "      <td>14.081459</td>\n",
       "      <td>6.129449</td>\n",
       "      <td>1.214806</td>\n",
       "      <td>12151.768945</td>\n",
       "    </tr>\n",
       "    <tr>\n",
       "      <th>min</th>\n",
       "      <td>18.000000</td>\n",
       "      <td>15.960000</td>\n",
       "      <td>0.000000</td>\n",
       "      <td>1121.873900</td>\n",
       "    </tr>\n",
       "    <tr>\n",
       "      <th>25%</th>\n",
       "      <td>26.000000</td>\n",
       "      <td>26.220000</td>\n",
       "      <td>0.000000</td>\n",
       "      <td>4687.797000</td>\n",
       "    </tr>\n",
       "    <tr>\n",
       "      <th>50%</th>\n",
       "      <td>39.000000</td>\n",
       "      <td>30.447500</td>\n",
       "      <td>1.000000</td>\n",
       "      <td>9333.014350</td>\n",
       "    </tr>\n",
       "    <tr>\n",
       "      <th>75%</th>\n",
       "      <td>51.000000</td>\n",
       "      <td>34.770000</td>\n",
       "      <td>2.000000</td>\n",
       "      <td>16577.779500</td>\n",
       "    </tr>\n",
       "    <tr>\n",
       "      <th>max</th>\n",
       "      <td>64.000000</td>\n",
       "      <td>53.130000</td>\n",
       "      <td>5.000000</td>\n",
       "      <td>63770.428010</td>\n",
       "    </tr>\n",
       "  </tbody>\n",
       "</table>\n",
       "</div>"
      ]
     },
     "execution_count": 10,
     "metadata": {},
     "output_type": "execute_result"
    }
   ],
   "execution_count": 10
  },
  {
   "metadata": {
    "ExecuteTime": {
     "end_time": "2024-04-07T20:30:42.167111Z",
     "start_time": "2024-04-07T20:30:42.147110Z"
    }
   },
   "cell_type": "code",
   "source": [
    "# Find the possible values for the smoker column\n",
    "dataset['smoker'].unique()"
   ],
   "id": "3310664109d2bf35",
   "outputs": [
    {
     "data": {
      "text/plain": [
       "array(['yes', 'no'], dtype=object)"
      ]
     },
     "execution_count": 14,
     "metadata": {},
     "output_type": "execute_result"
    }
   ],
   "execution_count": 14
  },
  {
   "metadata": {
    "ExecuteTime": {
     "end_time": "2024-04-07T20:31:34.757154Z",
     "start_time": "2024-04-07T20:31:34.721158Z"
    }
   },
   "cell_type": "code",
   "source": [
    "# Find the possible values for the sex column\n",
    "dataset['sex'].unique()"
   ],
   "id": "d4ea1cec756a2197",
   "outputs": [
    {
     "data": {
      "text/plain": [
       "array(['female', 'male'], dtype=object)"
      ]
     },
     "execution_count": 16,
     "metadata": {},
     "output_type": "execute_result"
    }
   ],
   "execution_count": 16
  },
  {
   "metadata": {
    "ExecuteTime": {
     "end_time": "2024-04-07T20:32:05.648156Z",
     "start_time": "2024-04-07T20:32:05.622158Z"
    }
   },
   "cell_type": "code",
   "source": [
    "# Find the possible values for region column\n",
    "dataset['region'].unique()"
   ],
   "id": "fb65fc78908bdd14",
   "outputs": [
    {
     "data": {
      "text/plain": [
       "array(['southwest', 'southeast', 'northwest', 'northeast'], dtype=object)"
      ]
     },
     "execution_count": 17,
     "metadata": {},
     "output_type": "execute_result"
    }
   ],
   "execution_count": 17
  },
  {
   "metadata": {
    "ExecuteTime": {
     "end_time": "2024-04-07T21:08:35.190443Z",
     "start_time": "2024-04-07T21:08:35.142041Z"
    }
   },
   "cell_type": "code",
   "source": [
    "# Change String values to numbers, so we can work with them\n",
    "region_mapping = {'southwest': 0, 'southeast': 1, 'northwest': 2, 'northeast': 3}\n",
    "# Use map to change region names to numbers\n",
    "dataset['region'] = dataset['region'].map(region_mapping)"
   ],
   "id": "4a93b5fb945dfbb2",
   "outputs": [],
   "execution_count": 4
  },
  {
   "metadata": {
    "ExecuteTime": {
     "end_time": "2024-04-07T21:08:39.510479Z",
     "start_time": "2024-04-07T21:08:39.484982Z"
    }
   },
   "cell_type": "code",
   "source": "dataset.head(10)",
   "id": "e34b48cf8acb693",
   "outputs": [
    {
     "data": {
      "text/plain": [
       "   age     sex     bmi  children smoker  region      charges\n",
       "0   19  female  27.900         0    yes       0  16884.92400\n",
       "1   18    male  33.770         1     no       1   1725.55230\n",
       "2   28    male  33.000         3     no       1   4449.46200\n",
       "3   33    male  22.705         0     no       2  21984.47061\n",
       "4   32    male  28.880         0     no       2   3866.85520\n",
       "5   31  female  25.740         0     no       1   3756.62160\n",
       "6   46  female  33.440         1     no       1   8240.58960\n",
       "7   37  female  27.740         3     no       2   7281.50560\n",
       "8   37    male  29.830         2     no       3   6406.41070\n",
       "9   60  female  25.840         0     no       2  28923.13692"
      ],
      "text/html": [
       "<div>\n",
       "<style scoped>\n",
       "    .dataframe tbody tr th:only-of-type {\n",
       "        vertical-align: middle;\n",
       "    }\n",
       "\n",
       "    .dataframe tbody tr th {\n",
       "        vertical-align: top;\n",
       "    }\n",
       "\n",
       "    .dataframe thead th {\n",
       "        text-align: right;\n",
       "    }\n",
       "</style>\n",
       "<table border=\"1\" class=\"dataframe\">\n",
       "  <thead>\n",
       "    <tr style=\"text-align: right;\">\n",
       "      <th></th>\n",
       "      <th>age</th>\n",
       "      <th>sex</th>\n",
       "      <th>bmi</th>\n",
       "      <th>children</th>\n",
       "      <th>smoker</th>\n",
       "      <th>region</th>\n",
       "      <th>charges</th>\n",
       "    </tr>\n",
       "  </thead>\n",
       "  <tbody>\n",
       "    <tr>\n",
       "      <th>0</th>\n",
       "      <td>19</td>\n",
       "      <td>female</td>\n",
       "      <td>27.900</td>\n",
       "      <td>0</td>\n",
       "      <td>yes</td>\n",
       "      <td>0</td>\n",
       "      <td>16884.92400</td>\n",
       "    </tr>\n",
       "    <tr>\n",
       "      <th>1</th>\n",
       "      <td>18</td>\n",
       "      <td>male</td>\n",
       "      <td>33.770</td>\n",
       "      <td>1</td>\n",
       "      <td>no</td>\n",
       "      <td>1</td>\n",
       "      <td>1725.55230</td>\n",
       "    </tr>\n",
       "    <tr>\n",
       "      <th>2</th>\n",
       "      <td>28</td>\n",
       "      <td>male</td>\n",
       "      <td>33.000</td>\n",
       "      <td>3</td>\n",
       "      <td>no</td>\n",
       "      <td>1</td>\n",
       "      <td>4449.46200</td>\n",
       "    </tr>\n",
       "    <tr>\n",
       "      <th>3</th>\n",
       "      <td>33</td>\n",
       "      <td>male</td>\n",
       "      <td>22.705</td>\n",
       "      <td>0</td>\n",
       "      <td>no</td>\n",
       "      <td>2</td>\n",
       "      <td>21984.47061</td>\n",
       "    </tr>\n",
       "    <tr>\n",
       "      <th>4</th>\n",
       "      <td>32</td>\n",
       "      <td>male</td>\n",
       "      <td>28.880</td>\n",
       "      <td>0</td>\n",
       "      <td>no</td>\n",
       "      <td>2</td>\n",
       "      <td>3866.85520</td>\n",
       "    </tr>\n",
       "    <tr>\n",
       "      <th>5</th>\n",
       "      <td>31</td>\n",
       "      <td>female</td>\n",
       "      <td>25.740</td>\n",
       "      <td>0</td>\n",
       "      <td>no</td>\n",
       "      <td>1</td>\n",
       "      <td>3756.62160</td>\n",
       "    </tr>\n",
       "    <tr>\n",
       "      <th>6</th>\n",
       "      <td>46</td>\n",
       "      <td>female</td>\n",
       "      <td>33.440</td>\n",
       "      <td>1</td>\n",
       "      <td>no</td>\n",
       "      <td>1</td>\n",
       "      <td>8240.58960</td>\n",
       "    </tr>\n",
       "    <tr>\n",
       "      <th>7</th>\n",
       "      <td>37</td>\n",
       "      <td>female</td>\n",
       "      <td>27.740</td>\n",
       "      <td>3</td>\n",
       "      <td>no</td>\n",
       "      <td>2</td>\n",
       "      <td>7281.50560</td>\n",
       "    </tr>\n",
       "    <tr>\n",
       "      <th>8</th>\n",
       "      <td>37</td>\n",
       "      <td>male</td>\n",
       "      <td>29.830</td>\n",
       "      <td>2</td>\n",
       "      <td>no</td>\n",
       "      <td>3</td>\n",
       "      <td>6406.41070</td>\n",
       "    </tr>\n",
       "    <tr>\n",
       "      <th>9</th>\n",
       "      <td>60</td>\n",
       "      <td>female</td>\n",
       "      <td>25.840</td>\n",
       "      <td>0</td>\n",
       "      <td>no</td>\n",
       "      <td>2</td>\n",
       "      <td>28923.13692</td>\n",
       "    </tr>\n",
       "  </tbody>\n",
       "</table>\n",
       "</div>"
      ]
     },
     "execution_count": 5,
     "metadata": {},
     "output_type": "execute_result"
    }
   ],
   "execution_count": 5
  },
  {
   "metadata": {
    "ExecuteTime": {
     "end_time": "2024-04-07T21:08:44.172517Z",
     "start_time": "2024-04-07T21:08:44.142520Z"
    }
   },
   "cell_type": "code",
   "source": [
    "# Another method is to use sklearn.preprocessing\n",
    "from sklearn.preprocessing import LabelEncoder\n",
    "# Instantiate LabelEncoder\n",
    "label_encoder = LabelEncoder()\n",
    "# 0 for female and 1 for male\n",
    "dataset['sex'] = label_encoder.fit_transform(dataset['sex'])\n",
    "dataset.head(10)"
   ],
   "id": "69c67825450563a2",
   "outputs": [
    {
     "data": {
      "text/plain": [
       "   age  sex     bmi  children smoker  region      charges\n",
       "0   19    0  27.900         0    yes       0  16884.92400\n",
       "1   18    1  33.770         1     no       1   1725.55230\n",
       "2   28    1  33.000         3     no       1   4449.46200\n",
       "3   33    1  22.705         0     no       2  21984.47061\n",
       "4   32    1  28.880         0     no       2   3866.85520\n",
       "5   31    0  25.740         0     no       1   3756.62160\n",
       "6   46    0  33.440         1     no       1   8240.58960\n",
       "7   37    0  27.740         3     no       2   7281.50560\n",
       "8   37    1  29.830         2     no       3   6406.41070\n",
       "9   60    0  25.840         0     no       2  28923.13692"
      ],
      "text/html": [
       "<div>\n",
       "<style scoped>\n",
       "    .dataframe tbody tr th:only-of-type {\n",
       "        vertical-align: middle;\n",
       "    }\n",
       "\n",
       "    .dataframe tbody tr th {\n",
       "        vertical-align: top;\n",
       "    }\n",
       "\n",
       "    .dataframe thead th {\n",
       "        text-align: right;\n",
       "    }\n",
       "</style>\n",
       "<table border=\"1\" class=\"dataframe\">\n",
       "  <thead>\n",
       "    <tr style=\"text-align: right;\">\n",
       "      <th></th>\n",
       "      <th>age</th>\n",
       "      <th>sex</th>\n",
       "      <th>bmi</th>\n",
       "      <th>children</th>\n",
       "      <th>smoker</th>\n",
       "      <th>region</th>\n",
       "      <th>charges</th>\n",
       "    </tr>\n",
       "  </thead>\n",
       "  <tbody>\n",
       "    <tr>\n",
       "      <th>0</th>\n",
       "      <td>19</td>\n",
       "      <td>0</td>\n",
       "      <td>27.900</td>\n",
       "      <td>0</td>\n",
       "      <td>yes</td>\n",
       "      <td>0</td>\n",
       "      <td>16884.92400</td>\n",
       "    </tr>\n",
       "    <tr>\n",
       "      <th>1</th>\n",
       "      <td>18</td>\n",
       "      <td>1</td>\n",
       "      <td>33.770</td>\n",
       "      <td>1</td>\n",
       "      <td>no</td>\n",
       "      <td>1</td>\n",
       "      <td>1725.55230</td>\n",
       "    </tr>\n",
       "    <tr>\n",
       "      <th>2</th>\n",
       "      <td>28</td>\n",
       "      <td>1</td>\n",
       "      <td>33.000</td>\n",
       "      <td>3</td>\n",
       "      <td>no</td>\n",
       "      <td>1</td>\n",
       "      <td>4449.46200</td>\n",
       "    </tr>\n",
       "    <tr>\n",
       "      <th>3</th>\n",
       "      <td>33</td>\n",
       "      <td>1</td>\n",
       "      <td>22.705</td>\n",
       "      <td>0</td>\n",
       "      <td>no</td>\n",
       "      <td>2</td>\n",
       "      <td>21984.47061</td>\n",
       "    </tr>\n",
       "    <tr>\n",
       "      <th>4</th>\n",
       "      <td>32</td>\n",
       "      <td>1</td>\n",
       "      <td>28.880</td>\n",
       "      <td>0</td>\n",
       "      <td>no</td>\n",
       "      <td>2</td>\n",
       "      <td>3866.85520</td>\n",
       "    </tr>\n",
       "    <tr>\n",
       "      <th>5</th>\n",
       "      <td>31</td>\n",
       "      <td>0</td>\n",
       "      <td>25.740</td>\n",
       "      <td>0</td>\n",
       "      <td>no</td>\n",
       "      <td>1</td>\n",
       "      <td>3756.62160</td>\n",
       "    </tr>\n",
       "    <tr>\n",
       "      <th>6</th>\n",
       "      <td>46</td>\n",
       "      <td>0</td>\n",
       "      <td>33.440</td>\n",
       "      <td>1</td>\n",
       "      <td>no</td>\n",
       "      <td>1</td>\n",
       "      <td>8240.58960</td>\n",
       "    </tr>\n",
       "    <tr>\n",
       "      <th>7</th>\n",
       "      <td>37</td>\n",
       "      <td>0</td>\n",
       "      <td>27.740</td>\n",
       "      <td>3</td>\n",
       "      <td>no</td>\n",
       "      <td>2</td>\n",
       "      <td>7281.50560</td>\n",
       "    </tr>\n",
       "    <tr>\n",
       "      <th>8</th>\n",
       "      <td>37</td>\n",
       "      <td>1</td>\n",
       "      <td>29.830</td>\n",
       "      <td>2</td>\n",
       "      <td>no</td>\n",
       "      <td>3</td>\n",
       "      <td>6406.41070</td>\n",
       "    </tr>\n",
       "    <tr>\n",
       "      <th>9</th>\n",
       "      <td>60</td>\n",
       "      <td>0</td>\n",
       "      <td>25.840</td>\n",
       "      <td>0</td>\n",
       "      <td>no</td>\n",
       "      <td>2</td>\n",
       "      <td>28923.13692</td>\n",
       "    </tr>\n",
       "  </tbody>\n",
       "</table>\n",
       "</div>"
      ]
     },
     "execution_count": 6,
     "metadata": {},
     "output_type": "execute_result"
    }
   ],
   "execution_count": 6
  },
  {
   "metadata": {
    "ExecuteTime": {
     "end_time": "2024-04-07T21:10:43.995563Z",
     "start_time": "2024-04-07T21:10:43.915569Z"
    }
   },
   "cell_type": "code",
   "source": [
    "# Change smoker string values to int\n",
    "smoker_mapping = {'yes': 1, 'no': 0}\n",
    "dataset['smoker'] = dataset['smoker'].map(smoker_mapping)\n",
    "dataset.head(10)"
   ],
   "id": "f3bf39fc678890d2",
   "outputs": [
    {
     "data": {
      "text/plain": [
       "   age  sex     bmi  children  smoker  region      charges\n",
       "0   19    0  27.900         0       1       0  16884.92400\n",
       "1   18    1  33.770         1       0       1   1725.55230\n",
       "2   28    1  33.000         3       0       1   4449.46200\n",
       "3   33    1  22.705         0       0       2  21984.47061\n",
       "4   32    1  28.880         0       0       2   3866.85520\n",
       "5   31    0  25.740         0       0       1   3756.62160\n",
       "6   46    0  33.440         1       0       1   8240.58960\n",
       "7   37    0  27.740         3       0       2   7281.50560\n",
       "8   37    1  29.830         2       0       3   6406.41070\n",
       "9   60    0  25.840         0       0       2  28923.13692"
      ],
      "text/html": [
       "<div>\n",
       "<style scoped>\n",
       "    .dataframe tbody tr th:only-of-type {\n",
       "        vertical-align: middle;\n",
       "    }\n",
       "\n",
       "    .dataframe tbody tr th {\n",
       "        vertical-align: top;\n",
       "    }\n",
       "\n",
       "    .dataframe thead th {\n",
       "        text-align: right;\n",
       "    }\n",
       "</style>\n",
       "<table border=\"1\" class=\"dataframe\">\n",
       "  <thead>\n",
       "    <tr style=\"text-align: right;\">\n",
       "      <th></th>\n",
       "      <th>age</th>\n",
       "      <th>sex</th>\n",
       "      <th>bmi</th>\n",
       "      <th>children</th>\n",
       "      <th>smoker</th>\n",
       "      <th>region</th>\n",
       "      <th>charges</th>\n",
       "    </tr>\n",
       "  </thead>\n",
       "  <tbody>\n",
       "    <tr>\n",
       "      <th>0</th>\n",
       "      <td>19</td>\n",
       "      <td>0</td>\n",
       "      <td>27.900</td>\n",
       "      <td>0</td>\n",
       "      <td>1</td>\n",
       "      <td>0</td>\n",
       "      <td>16884.92400</td>\n",
       "    </tr>\n",
       "    <tr>\n",
       "      <th>1</th>\n",
       "      <td>18</td>\n",
       "      <td>1</td>\n",
       "      <td>33.770</td>\n",
       "      <td>1</td>\n",
       "      <td>0</td>\n",
       "      <td>1</td>\n",
       "      <td>1725.55230</td>\n",
       "    </tr>\n",
       "    <tr>\n",
       "      <th>2</th>\n",
       "      <td>28</td>\n",
       "      <td>1</td>\n",
       "      <td>33.000</td>\n",
       "      <td>3</td>\n",
       "      <td>0</td>\n",
       "      <td>1</td>\n",
       "      <td>4449.46200</td>\n",
       "    </tr>\n",
       "    <tr>\n",
       "      <th>3</th>\n",
       "      <td>33</td>\n",
       "      <td>1</td>\n",
       "      <td>22.705</td>\n",
       "      <td>0</td>\n",
       "      <td>0</td>\n",
       "      <td>2</td>\n",
       "      <td>21984.47061</td>\n",
       "    </tr>\n",
       "    <tr>\n",
       "      <th>4</th>\n",
       "      <td>32</td>\n",
       "      <td>1</td>\n",
       "      <td>28.880</td>\n",
       "      <td>0</td>\n",
       "      <td>0</td>\n",
       "      <td>2</td>\n",
       "      <td>3866.85520</td>\n",
       "    </tr>\n",
       "    <tr>\n",
       "      <th>5</th>\n",
       "      <td>31</td>\n",
       "      <td>0</td>\n",
       "      <td>25.740</td>\n",
       "      <td>0</td>\n",
       "      <td>0</td>\n",
       "      <td>1</td>\n",
       "      <td>3756.62160</td>\n",
       "    </tr>\n",
       "    <tr>\n",
       "      <th>6</th>\n",
       "      <td>46</td>\n",
       "      <td>0</td>\n",
       "      <td>33.440</td>\n",
       "      <td>1</td>\n",
       "      <td>0</td>\n",
       "      <td>1</td>\n",
       "      <td>8240.58960</td>\n",
       "    </tr>\n",
       "    <tr>\n",
       "      <th>7</th>\n",
       "      <td>37</td>\n",
       "      <td>0</td>\n",
       "      <td>27.740</td>\n",
       "      <td>3</td>\n",
       "      <td>0</td>\n",
       "      <td>2</td>\n",
       "      <td>7281.50560</td>\n",
       "    </tr>\n",
       "    <tr>\n",
       "      <th>8</th>\n",
       "      <td>37</td>\n",
       "      <td>1</td>\n",
       "      <td>29.830</td>\n",
       "      <td>2</td>\n",
       "      <td>0</td>\n",
       "      <td>3</td>\n",
       "      <td>6406.41070</td>\n",
       "    </tr>\n",
       "    <tr>\n",
       "      <th>9</th>\n",
       "      <td>60</td>\n",
       "      <td>0</td>\n",
       "      <td>25.840</td>\n",
       "      <td>0</td>\n",
       "      <td>0</td>\n",
       "      <td>2</td>\n",
       "      <td>28923.13692</td>\n",
       "    </tr>\n",
       "  </tbody>\n",
       "</table>\n",
       "</div>"
      ]
     },
     "execution_count": 7,
     "metadata": {},
     "output_type": "execute_result"
    }
   ],
   "execution_count": 7
  },
  {
   "metadata": {
    "ExecuteTime": {
     "end_time": "2024-04-07T21:11:10.878673Z",
     "start_time": "2024-04-07T21:11:10.837674Z"
    }
   },
   "cell_type": "code",
   "source": [
    "# Matrix of correlation\n",
    "dataset.corr()"
   ],
   "id": "fdb61cdcedd2a510",
   "outputs": [
    {
     "data": {
      "text/plain": [
       "               age       sex       bmi  children    smoker    region   charges\n",
       "age       1.000000 -0.026046  0.113048  0.037574 -0.023286 -0.000932  0.298624\n",
       "sex      -0.026046  1.000000  0.042924  0.016020  0.082326 -0.004808  0.062837\n",
       "bmi       0.113048  0.042924  1.000000 -0.001492  0.011489 -0.159178  0.199846\n",
       "children  0.037574  0.016020 -0.001492  1.000000  0.006362 -0.016111  0.066442\n",
       "smoker   -0.023286  0.082326  0.011489  0.006362  1.000000  0.006751  0.788783\n",
       "region   -0.000932 -0.004808 -0.159178 -0.016111  0.006751  1.000000  0.013530\n",
       "charges   0.298624  0.062837  0.199846  0.066442  0.788783  0.013530  1.000000"
      ],
      "text/html": [
       "<div>\n",
       "<style scoped>\n",
       "    .dataframe tbody tr th:only-of-type {\n",
       "        vertical-align: middle;\n",
       "    }\n",
       "\n",
       "    .dataframe tbody tr th {\n",
       "        vertical-align: top;\n",
       "    }\n",
       "\n",
       "    .dataframe thead th {\n",
       "        text-align: right;\n",
       "    }\n",
       "</style>\n",
       "<table border=\"1\" class=\"dataframe\">\n",
       "  <thead>\n",
       "    <tr style=\"text-align: right;\">\n",
       "      <th></th>\n",
       "      <th>age</th>\n",
       "      <th>sex</th>\n",
       "      <th>bmi</th>\n",
       "      <th>children</th>\n",
       "      <th>smoker</th>\n",
       "      <th>region</th>\n",
       "      <th>charges</th>\n",
       "    </tr>\n",
       "  </thead>\n",
       "  <tbody>\n",
       "    <tr>\n",
       "      <th>age</th>\n",
       "      <td>1.000000</td>\n",
       "      <td>-0.026046</td>\n",
       "      <td>0.113048</td>\n",
       "      <td>0.037574</td>\n",
       "      <td>-0.023286</td>\n",
       "      <td>-0.000932</td>\n",
       "      <td>0.298624</td>\n",
       "    </tr>\n",
       "    <tr>\n",
       "      <th>sex</th>\n",
       "      <td>-0.026046</td>\n",
       "      <td>1.000000</td>\n",
       "      <td>0.042924</td>\n",
       "      <td>0.016020</td>\n",
       "      <td>0.082326</td>\n",
       "      <td>-0.004808</td>\n",
       "      <td>0.062837</td>\n",
       "    </tr>\n",
       "    <tr>\n",
       "      <th>bmi</th>\n",
       "      <td>0.113048</td>\n",
       "      <td>0.042924</td>\n",
       "      <td>1.000000</td>\n",
       "      <td>-0.001492</td>\n",
       "      <td>0.011489</td>\n",
       "      <td>-0.159178</td>\n",
       "      <td>0.199846</td>\n",
       "    </tr>\n",
       "    <tr>\n",
       "      <th>children</th>\n",
       "      <td>0.037574</td>\n",
       "      <td>0.016020</td>\n",
       "      <td>-0.001492</td>\n",
       "      <td>1.000000</td>\n",
       "      <td>0.006362</td>\n",
       "      <td>-0.016111</td>\n",
       "      <td>0.066442</td>\n",
       "    </tr>\n",
       "    <tr>\n",
       "      <th>smoker</th>\n",
       "      <td>-0.023286</td>\n",
       "      <td>0.082326</td>\n",
       "      <td>0.011489</td>\n",
       "      <td>0.006362</td>\n",
       "      <td>1.000000</td>\n",
       "      <td>0.006751</td>\n",
       "      <td>0.788783</td>\n",
       "    </tr>\n",
       "    <tr>\n",
       "      <th>region</th>\n",
       "      <td>-0.000932</td>\n",
       "      <td>-0.004808</td>\n",
       "      <td>-0.159178</td>\n",
       "      <td>-0.016111</td>\n",
       "      <td>0.006751</td>\n",
       "      <td>1.000000</td>\n",
       "      <td>0.013530</td>\n",
       "    </tr>\n",
       "    <tr>\n",
       "      <th>charges</th>\n",
       "      <td>0.298624</td>\n",
       "      <td>0.062837</td>\n",
       "      <td>0.199846</td>\n",
       "      <td>0.066442</td>\n",
       "      <td>0.788783</td>\n",
       "      <td>0.013530</td>\n",
       "      <td>1.000000</td>\n",
       "    </tr>\n",
       "  </tbody>\n",
       "</table>\n",
       "</div>"
      ]
     },
     "execution_count": 8,
     "metadata": {},
     "output_type": "execute_result"
    }
   ],
   "execution_count": 8
  },
  {
   "metadata": {
    "ExecuteTime": {
     "end_time": "2024-04-07T21:14:20.250546Z",
     "start_time": "2024-04-07T21:14:20.219551Z"
    }
   },
   "cell_type": "code",
   "source": [
    "# scale charges values to thousands\n",
    "dataset['charges'] = dataset['charges']/1000.0\n",
    "dataset.head(10)"
   ],
   "id": "c82617a6182aae99",
   "outputs": [
    {
     "data": {
      "text/plain": [
       "   age  sex     bmi  children  smoker  region    charges\n",
       "0   19    0  27.900         0       1       0  16.884924\n",
       "1   18    1  33.770         1       0       1   1.725552\n",
       "2   28    1  33.000         3       0       1   4.449462\n",
       "3   33    1  22.705         0       0       2  21.984471\n",
       "4   32    1  28.880         0       0       2   3.866855\n",
       "5   31    0  25.740         0       0       1   3.756622\n",
       "6   46    0  33.440         1       0       1   8.240590\n",
       "7   37    0  27.740         3       0       2   7.281506\n",
       "8   37    1  29.830         2       0       3   6.406411\n",
       "9   60    0  25.840         0       0       2  28.923137"
      ],
      "text/html": [
       "<div>\n",
       "<style scoped>\n",
       "    .dataframe tbody tr th:only-of-type {\n",
       "        vertical-align: middle;\n",
       "    }\n",
       "\n",
       "    .dataframe tbody tr th {\n",
       "        vertical-align: top;\n",
       "    }\n",
       "\n",
       "    .dataframe thead th {\n",
       "        text-align: right;\n",
       "    }\n",
       "</style>\n",
       "<table border=\"1\" class=\"dataframe\">\n",
       "  <thead>\n",
       "    <tr style=\"text-align: right;\">\n",
       "      <th></th>\n",
       "      <th>age</th>\n",
       "      <th>sex</th>\n",
       "      <th>bmi</th>\n",
       "      <th>children</th>\n",
       "      <th>smoker</th>\n",
       "      <th>region</th>\n",
       "      <th>charges</th>\n",
       "    </tr>\n",
       "  </thead>\n",
       "  <tbody>\n",
       "    <tr>\n",
       "      <th>0</th>\n",
       "      <td>19</td>\n",
       "      <td>0</td>\n",
       "      <td>27.900</td>\n",
       "      <td>0</td>\n",
       "      <td>1</td>\n",
       "      <td>0</td>\n",
       "      <td>16.884924</td>\n",
       "    </tr>\n",
       "    <tr>\n",
       "      <th>1</th>\n",
       "      <td>18</td>\n",
       "      <td>1</td>\n",
       "      <td>33.770</td>\n",
       "      <td>1</td>\n",
       "      <td>0</td>\n",
       "      <td>1</td>\n",
       "      <td>1.725552</td>\n",
       "    </tr>\n",
       "    <tr>\n",
       "      <th>2</th>\n",
       "      <td>28</td>\n",
       "      <td>1</td>\n",
       "      <td>33.000</td>\n",
       "      <td>3</td>\n",
       "      <td>0</td>\n",
       "      <td>1</td>\n",
       "      <td>4.449462</td>\n",
       "    </tr>\n",
       "    <tr>\n",
       "      <th>3</th>\n",
       "      <td>33</td>\n",
       "      <td>1</td>\n",
       "      <td>22.705</td>\n",
       "      <td>0</td>\n",
       "      <td>0</td>\n",
       "      <td>2</td>\n",
       "      <td>21.984471</td>\n",
       "    </tr>\n",
       "    <tr>\n",
       "      <th>4</th>\n",
       "      <td>32</td>\n",
       "      <td>1</td>\n",
       "      <td>28.880</td>\n",
       "      <td>0</td>\n",
       "      <td>0</td>\n",
       "      <td>2</td>\n",
       "      <td>3.866855</td>\n",
       "    </tr>\n",
       "    <tr>\n",
       "      <th>5</th>\n",
       "      <td>31</td>\n",
       "      <td>0</td>\n",
       "      <td>25.740</td>\n",
       "      <td>0</td>\n",
       "      <td>0</td>\n",
       "      <td>1</td>\n",
       "      <td>3.756622</td>\n",
       "    </tr>\n",
       "    <tr>\n",
       "      <th>6</th>\n",
       "      <td>46</td>\n",
       "      <td>0</td>\n",
       "      <td>33.440</td>\n",
       "      <td>1</td>\n",
       "      <td>0</td>\n",
       "      <td>1</td>\n",
       "      <td>8.240590</td>\n",
       "    </tr>\n",
       "    <tr>\n",
       "      <th>7</th>\n",
       "      <td>37</td>\n",
       "      <td>0</td>\n",
       "      <td>27.740</td>\n",
       "      <td>3</td>\n",
       "      <td>0</td>\n",
       "      <td>2</td>\n",
       "      <td>7.281506</td>\n",
       "    </tr>\n",
       "    <tr>\n",
       "      <th>8</th>\n",
       "      <td>37</td>\n",
       "      <td>1</td>\n",
       "      <td>29.830</td>\n",
       "      <td>2</td>\n",
       "      <td>0</td>\n",
       "      <td>3</td>\n",
       "      <td>6.406411</td>\n",
       "    </tr>\n",
       "    <tr>\n",
       "      <th>9</th>\n",
       "      <td>60</td>\n",
       "      <td>0</td>\n",
       "      <td>25.840</td>\n",
       "      <td>0</td>\n",
       "      <td>0</td>\n",
       "      <td>2</td>\n",
       "      <td>28.923137</td>\n",
       "    </tr>\n",
       "  </tbody>\n",
       "</table>\n",
       "</div>"
      ]
     },
     "execution_count": 9,
     "metadata": {},
     "output_type": "execute_result"
    }
   ],
   "execution_count": 9
  },
  {
   "metadata": {
    "ExecuteTime": {
     "end_time": "2024-04-07T22:17:40.131580Z",
     "start_time": "2024-04-07T22:17:37.264580Z"
    }
   },
   "cell_type": "code",
   "source": [
    "# Plot the charges by sex\n",
    "plt.xlabel('Smoker', fontsize=18, color='black')\n",
    "plt.ylabel('Insurance Charges in Thousands', fontsize=18, color='black')\n",
    "plt.title('Insurance charges by sex', fontsize=20, color='black')\n",
    "# Customize the tick labels\n",
    "plt.xticks(fontsize=12, color='black')\n",
    "plt.yticks(fontsize=12, color='black')\n",
    "# Customize the grid color \n",
    "plt.grid(color='gray', linestyle='--', linewidth=0.5)\n",
    "# Plot\n",
    "# Define tick labels for the 'sex' column\n",
    "sns.set(rc={'figure.figsize':(8,6)})\n",
    "color_palette = ['#deff0a','#0aefff']\n",
    "sex_labels = {0: 'female', 1: 'male'}\n",
    "sns.barplot(x=dataset['sex'].map(sex_labels), y=dataset['charges'], hue=dataset['sex'].map(sex_labels),  palette=color_palette)\n",
    "plt.show()"
   ],
   "id": "e05bb7c4be784ae2",
   "outputs": [
    {
     "data": {
      "text/plain": [
       "<Figure size 800x600 with 1 Axes>"
      ],
      "image/png": "[encoded data removed]"
     },
     "metadata": {},
     "output_type": "display_data"
    }
   ],
   "execution_count": 18
  },
  {
   "metadata": {
    "ExecuteTime": {
     "end_time": "2024-04-07T22:21:48.719030Z",
     "start_time": "2024-04-07T22:21:48.290039Z"
    }
   },
   "cell_type": "code",
   "source": [
    "# Plot the smoker vs non-smoker insurance charges\n",
    "plt.xlabel('Smoker',  fontsize=16, color='black')\n",
    "plt.ylabel('Insurance Charges in Thousands', fontsize=16, color='black')\n",
    "plt.title('Smoker and Non-Smoker Insurance Charges', fontsize=18, color='black')\n",
    "# Customize the tick labels\n",
    "plt.xticks(fontsize=12, color='black')\n",
    "plt.yticks(fontsize=12, color='black')\n",
    "# Plot \n",
    "# Define tick labels for the 'sex' column\n",
    "sns.set(rc={'figure.figsize':(8,6)})\n",
    "color_palette = ['#deff0a','#0aefff']\n",
    "smoker_labels = {0: 'non-smoker', 1: 'smoker'}\n",
    "sns.barplot(x=dataset['smoker'].map(smoker_labels), y=dataset['charges'], hue=dataset['smoker'].map(smoker_labels),  palette=color_palette)\n",
    "plt.show()"
   ],
   "id": "4dea9f6a8aefa9fb",
   "outputs": [
    {
     "data": {
      "text/plain": [
       "<Figure size 800x600 with 1 Axes>"
      ],
      "image/png": "[encoded data removed]"
     },
     "metadata": {},
     "output_type": "display_data"
    }
   ],
   "execution_count": 19
  },
  {
   "metadata": {
    "ExecuteTime": {
     "end_time": "2024-04-07T22:37:27.767779Z",
     "start_time": "2024-04-07T22:37:27.600775Z"
    }
   },
   "cell_type": "code",
   "source": [
    "import matplotlib.pyplot as plt\n",
    "\n",
    "# Setting labels for items in Chart\n",
    "region_map = {0: 'southwest', 1: 'southeast', 2: 'northwest', 3: 'northeast'}\n",
    "\n",
    "# Define colors\n",
    "colors = ['#008bf8', '#f5b700', '#dc0073', '#04e762']\n",
    "\n",
    "# Grouping dataset by region and summing charges\n",
    "charges_per_region = dataset.groupby('region')['charges'].sum()\n",
    "\n",
    "# Calculate explode based on the number of regions\n",
    "explode = (0.05,) * len(charges_per_region)\n",
    "\n",
    "# Pie Chart\n",
    "plt.pie(charges_per_region, colors=colors, labels=region_map.values(),\n",
    "        autopct='%1.1f%%', pctdistance=0.85,\n",
    "        explode=explode)\n",
    "\n",
    "# Draw circle\n",
    "centre_circle = plt.Circle((0, 0), 0.70, fc='white')\n",
    "fig = plt.gcf()\n",
    "\n",
    "# Adding Circle in Pie chart\n",
    "fig.gca().add_artist(centre_circle)\n",
    "\n",
    "# Adding Title of chart\n",
    "plt.title('Insurance Charges Per Region', fontsize=18, color='black')\n",
    "\n",
    "# Displaying Chart\n",
    "plt.show()"
   ],
   "id": "9e87169feba26aa",
   "outputs": [
    {
     "data": {
      "text/plain": [
       "<Figure size 800x600 with 1 Axes>"
      ],
      "image/png": "[encoded data removed]"
     },
     "metadata": {},
     "output_type": "display_data"
    }
   ],
   "execution_count": 38
  },
  {
   "metadata": {
    "ExecuteTime": {
     "end_time": "2024-04-07T22:49:12.934186Z",
     "start_time": "2024-04-07T22:49:10.697242Z"
    }
   },
   "cell_type": "code",
   "source": [
    "# Plot Relationship between bmi (body mass index) and insurance  charges\n",
    "plt.xlabel(\"BMI\", fontsize=14, color='black')\n",
    "plt.ylabel(\"Insurance Charges in Thousands\", fontsize=14, color='black')\n",
    "plt.title(\"Relationship between BMI and Insurance Charges\", fontsize=14, color='black')\n",
    "# Customize the tick labels\n",
    "plt.xticks(fontsize=12, color='black')\n",
    "plt.yticks(fontsize=12, color='black')\n",
    "colors = ['#008bf8', '#f5b700', '#dc0073', '#04e762']\n",
    "# Customize the grid color\n",
    "plt.grid(color='gray', linestyle='--', linewidth=0.5)\n",
    "# sort BMI into bins (intervals)\n",
    "bmi_bins = pd.cut(dataset['bmi'], bins=[0,18.5,25,30, float('inf')], labels=['Underweight', 'Healthy Weight', 'Overweight', 'Obesity'])\n",
    "sns.stripplot(x=bmi_bins, y=dataset[\"charges\"], hue=bmi_bins, dodge=True, size=8, alpha=0.7, jitter=True, palette=colors)\n",
    "plt.show()"
   ],
   "id": "eb4c966e71a05a3",
   "outputs": [
    {
     "data": {
      "text/plain": [
       "<Figure size 800x600 with 1 Axes>"
      ],
      "image/png": "[encoded data removed]"
     },
     "metadata": {},
     "output_type": "display_data"
    }
   ],
   "execution_count": 44
  },
  {
   "metadata": {
    "ExecuteTime": {
     "end_time": "2024-04-07T22:56:47.922601Z",
     "start_time": "2024-04-07T22:56:45.875082Z"
    }
   },
   "cell_type": "code",
   "source": [
    "# Plot age and insurance charges relationship\n",
    "plt.xlabel('Age', fontsize=12, color='black')\n",
    "plt.ylabel('Insurance Charges in Thousands', fontsize=12, color='black')\n",
    "plt.title('Insurance Charges in Thousands per Age Group', fontsize=14, color='black')\n",
    "# Customize the tick labels\n",
    "plt.xticks(fontsize=12, color='black')\n",
    "plt.yticks(fontsize=12, color='black')\n",
    "colors = ['#008bf8', '#f5b700', '#dc0073', '#04e762']\n",
    "# Customize the grid color\n",
    "plt.grid(color='gray', linestyle='--', linewidth=0.5)\n",
    "# Sort Age into age bins\n",
    "age_bins = pd.cut(dataset['age'], bins=[18,25,45,60,float('inf')], labels=['18-25', '25-45', '45-60', '+60'])\n",
    "sns.stripplot(x=age_bins, y=dataset[\"charges\"], hue=age_bins, dodge=True, size=8, alpha=0.7, jitter=True, palette=colors)\n",
    "plt.show()"
   ],
   "id": "cce285cd2727469e",
   "outputs": [
    {
     "data": {
      "text/plain": [
       "<Figure size 800x600 with 1 Axes>"
      ],
      "image/png": "[encoded data removed]"
     },
     "metadata": {},
     "output_type": "display_data"
    }
   ],
   "execution_count": 46
  },
  {
   "metadata": {},
   "cell_type": "markdown",
   "source": "## Machine Learning Part",
   "id": "e5824f275454766d"
  },
  {
   "metadata": {
    "ExecuteTime": {
     "end_time": "2024-04-07T23:04:54.204306Z",
     "start_time": "2024-04-07T23:04:54.184278Z"
    }
   },
   "cell_type": "code",
   "source": [
    "# Define Features\n",
    "data = dataset[['age', 'bmi', 'smoker', 'charges']]\n",
    "predict = \"charges\"\n",
    "features = np.array(data.drop([predict], axis=1))\n",
    "labels = np.array(data[predict])"
   ],
   "id": "229c1d1541fd2915",
   "outputs": [],
   "execution_count": 50
  },
  {
   "metadata": {
    "ExecuteTime": {
     "end_time": "2024-04-07T23:04:56.709015Z",
     "start_time": "2024-04-07T23:04:56.691019Z"
    }
   },
   "cell_type": "code",
   "source": "features",
   "id": "87d486454fdb5592",
   "outputs": [
    {
     "data": {
      "text/plain": [
       "array([[19.   , 27.9  ,  1.   ],\n",
       "       [18.   , 33.77 ,  0.   ],\n",
       "       [28.   , 33.   ,  0.   ],\n",
       "       ...,\n",
       "       [19.   , 26.03 ,  1.   ],\n",
       "       [23.   , 18.715,  0.   ],\n",
       "       [54.   , 31.6  ,  0.   ]])"
      ]
     },
     "execution_count": 51,
     "metadata": {},
     "output_type": "execute_result"
    }
   ],
   "execution_count": 51
  },
  {
   "metadata": {
    "ExecuteTime": {
     "end_time": "2024-04-07T23:04:37.938874Z",
     "start_time": "2024-04-07T23:04:37.918877Z"
    }
   },
   "cell_type": "code",
   "source": "labels",
   "id": "430836155efeecab",
   "outputs": [
    {
     "data": {
      "text/plain": [
       "array([16.884924  ,  1.7255523 ,  4.449462  , ..., 16.4508947 ,\n",
       "       21.59538229,  9.850432  ])"
      ]
     },
     "execution_count": 49,
     "metadata": {},
     "output_type": "execute_result"
    }
   ],
   "execution_count": 49
  },
  {
   "metadata": {
    "ExecuteTime": {
     "end_time": "2024-04-07T23:06:18.573814Z",
     "start_time": "2024-04-07T23:06:18.137814Z"
    }
   },
   "cell_type": "code",
   "source": "# Initialize lists to store training and test losses",
   "id": "df627285ad6a7da1",
   "outputs": [],
   "execution_count": 52
  },
  {
   "metadata": {
    "ExecuteTime": {
     "end_time": "2024-04-08T00:00:42.521875Z",
     "start_time": "2024-04-08T00:00:40.778879Z"
    }
   },
   "cell_type": "code",
   "source": [
    "train_losses = []\n",
    "test_losses = []\n",
    "best_accuracy = 0\n",
    "for i in range(100):\n",
    "        train_dataset, test_dataset, labels_train, labels_test= train_test_split(features, labels, test_size=0.1)\n",
    "        model = linear_model.LinearRegression()\n",
    "        model.fit(train_dataset, labels_train)\n",
    "        \n",
    "        # Compute training loss\n",
    "        train_predictions = model.predict(train_dataset)\n",
    "        train_loss = mean_squared_error(labels_train, train_predictions)\n",
    "        train_losses.append(train_loss)\n",
    "        \n",
    "        # Compute test loss\n",
    "        test_predictions = model.predict(test_dataset)\n",
    "        test_loss = mean_squared_error(labels_test, test_predictions)\n",
    "        test_losses.append(test_loss)\n",
    "        \n",
    "        # Compute accuracy\n",
    "        accuracy = model.score(test_dataset, labels_test)\n",
    "        print(f'Iteration: {i}\\tAccuracy: {accuracy}\\tTraining Loss: {train_loss}\\tTesting Loss: {test_loss}')\n",
    "        if accuracy > best_accuracy :\n",
    "                best_accuracy = accuracy\n",
    "                with open('charges_model.pickle', 'wb') as f:\n",
    "                        pickle.dump(model,f)\n",
    "                "
   ],
   "id": "63f6d30fc6997882",
   "outputs": [
    {
     "name": "stdout",
     "output_type": "stream",
     "text": [
      "Iteration: 0\tAccuracy: 0.7916100138393433\tTraining Loss: 38.28855709686312\tTesting Loss: 28.903438051206876\n",
      "Iteration: 1\tAccuracy: 0.7144072691406673\tTraining Loss: 37.073091004236915\tTesting Loss: 39.840253614388836\n",
      "Iteration: 2\tAccuracy: 0.7360888977865943\tTraining Loss: 37.73158184461667\tTesting Loss: 33.882784065785756\n",
      "Iteration: 3\tAccuracy: 0.7412733604398664\tTraining Loss: 37.03613818140894\tTesting Loss: 40.14259527367333\n",
      "Iteration: 4\tAccuracy: 0.7352678365803852\tTraining Loss: 37.68489951608336\tTesting Loss: 34.38731724164223\n",
      "Iteration: 5\tAccuracy: 0.7740639902277427\tTraining Loss: 37.73931974521244\tTesting Loss: 33.813789843431636\n",
      "Iteration: 6\tAccuracy: 0.7942564005884726\tTraining Loss: 38.075249432513\tTesting Loss: 30.80956109052636\n",
      "Iteration: 7\tAccuracy: 0.7347936833339672\tTraining Loss: 37.36481446023157\tTesting Loss: 37.216644106975195\n",
      "Iteration: 8\tAccuracy: 0.7159331552686883\tTraining Loss: 35.94059114163693\tTesting Loss: 50.00554879099913\n",
      "Iteration: 9\tAccuracy: 0.7769892479099981\tTraining Loss: 37.50895809371192\tTesting Loss: 35.94658331861026\n",
      "Iteration: 10\tAccuracy: 0.785320176204282\tTraining Loss: 37.69607960718457\tTesting Loss: 34.22798161830045\n",
      "Iteration: 11\tAccuracy: 0.7442301581490365\tTraining Loss: 37.39003293940385\tTesting Loss: 36.98597507462914\n",
      "Iteration: 12\tAccuracy: 0.7798180764989013\tTraining Loss: 38.30799829738206\tTesting Loss: 28.75960219146126\n",
      "Iteration: 13\tAccuracy: 0.7471191669736736\tTraining Loss: 37.15602859101887\tTesting Loss: 39.087862770808634\n",
      "Iteration: 14\tAccuracy: 0.7867833030543813\tTraining Loss: 37.54622924656338\tTesting Loss: 35.55560952445628\n",
      "Iteration: 15\tAccuracy: 0.7854431807770657\tTraining Loss: 37.630095062678556\tTesting Loss: 34.84020244263673\n",
      "Iteration: 16\tAccuracy: 0.7673997249975144\tTraining Loss: 37.04700567686271\tTesting Loss: 40.168746162847555\n",
      "Iteration: 17\tAccuracy: 0.7485421891322753\tTraining Loss: 36.45045445542711\tTesting Loss: 45.53103371127835\n",
      "Iteration: 18\tAccuracy: 0.7344734758489995\tTraining Loss: 37.198180976939966\tTesting Loss: 38.677693152165546\n",
      "Iteration: 19\tAccuracy: 0.7854151009689914\tTraining Loss: 37.974890981791276\tTesting Loss: 31.803491850485628\n",
      "Iteration: 20\tAccuracy: 0.7598606217931481\tTraining Loss: 36.92935994486511\tTesting Loss: 41.32829831261332\n",
      "Iteration: 21\tAccuracy: 0.7913305140320029\tTraining Loss: 37.190885981705165\tTesting Loss: 38.904128690536105\n",
      "Iteration: 22\tAccuracy: 0.733440509025522\tTraining Loss: 37.25386381223463\tTesting Loss: 38.33692728151141\n",
      "Iteration: 23\tAccuracy: 0.7332252425251573\tTraining Loss: 38.45769072767024\tTesting Loss: 27.517793230011517\n",
      "Iteration: 24\tAccuracy: 0.7743952676403525\tTraining Loss: 37.49216284036849\tTesting Loss: 36.2603939359446\n",
      "Iteration: 25\tAccuracy: 0.7493435961162913\tTraining Loss: 37.57378564675085\tTesting Loss: 35.375182139988276\n",
      "Iteration: 26\tAccuracy: 0.7357757561546684\tTraining Loss: 37.379532153134356\tTesting Loss: 37.079831817435235\n",
      "Iteration: 27\tAccuracy: 0.7724211400801382\tTraining Loss: 36.97126639097812\tTesting Loss: 40.872054162189116\n",
      "Iteration: 28\tAccuracy: 0.7099054843680204\tTraining Loss: 37.59367863913549\tTesting Loss: 35.19708939763156\n",
      "Iteration: 29\tAccuracy: 0.7958153093536617\tTraining Loss: 38.090342183100944\tTesting Loss: 30.661391370306426\n",
      "Iteration: 30\tAccuracy: 0.7517256725958703\tTraining Loss: 37.82590538579856\tTesting Loss: 33.040160117001214\n",
      "Iteration: 31\tAccuracy: 0.7799304864444859\tTraining Loss: 37.17280667659046\tTesting Loss: 38.95640999732171\n",
      "Iteration: 32\tAccuracy: 0.7718220535297633\tTraining Loss: 37.66506547277533\tTesting Loss: 34.503782117749786\n",
      "Iteration: 33\tAccuracy: 0.7190389702547211\tTraining Loss: 37.175929768992965\tTesting Loss: 38.98298636590454\n",
      "Iteration: 34\tAccuracy: 0.7293021648976101\tTraining Loss: 37.466460893829634\tTesting Loss: 36.30529974698432\n",
      "Iteration: 35\tAccuracy: 0.7602299712031355\tTraining Loss: 37.66806559077076\tTesting Loss: 34.44935725844521\n",
      "Iteration: 36\tAccuracy: 0.740501265366273\tTraining Loss: 37.28688194813045\tTesting Loss: 37.98129069587009\n",
      "Iteration: 37\tAccuracy: 0.7671147799674931\tTraining Loss: 37.1522218597596\tTesting Loss: 39.133880689764055\n",
      "Iteration: 38\tAccuracy: 0.7605468978971153\tTraining Loss: 37.309127510723485\tTesting Loss: 37.69670700067703\n",
      "Iteration: 39\tAccuracy: 0.7192673388438962\tTraining Loss: 37.55675817354255\tTesting Loss: 35.45614679300565\n",
      "Iteration: 40\tAccuracy: 0.7845905522913498\tTraining Loss: 37.5692189036712\tTesting Loss: 35.3851106538517\n",
      "Iteration: 41\tAccuracy: 0.7655948237041528\tTraining Loss: 37.227174129767555\tTesting Loss: 38.41171047962063\n",
      "Iteration: 42\tAccuracy: 0.7701923603876936\tTraining Loss: 37.58565688339652\tTesting Loss: 35.25117093499497\n",
      "Iteration: 43\tAccuracy: 0.765209495252558\tTraining Loss: 37.7494408341625\tTesting Loss: 33.801278860408736\n",
      "Iteration: 44\tAccuracy: 0.7626872229566934\tTraining Loss: 37.58887517788094\tTesting Loss: 35.18607330403107\n",
      "Iteration: 45\tAccuracy: 0.659746267504669\tTraining Loss: 36.45068178512949\tTesting Loss: 45.50284520034341\n",
      "Iteration: 46\tAccuracy: 0.7650953981605632\tTraining Loss: 37.66399993971273\tTesting Loss: 34.50878204333061\n",
      "Iteration: 47\tAccuracy: 0.7224730002898256\tTraining Loss: 37.467543909322764\tTesting Loss: 36.44456876234963\n",
      "Iteration: 48\tAccuracy: 0.766831106865112\tTraining Loss: 37.31081003717996\tTesting Loss: 37.74826583063047\n",
      "Iteration: 49\tAccuracy: 0.7784622286004201\tTraining Loss: 37.7198378184944\tTesting Loss: 34.02050729034052\n",
      "Iteration: 50\tAccuracy: 0.765001238358527\tTraining Loss: 37.64115590882354\tTesting Loss: 34.71972423280601\n",
      "Iteration: 51\tAccuracy: 0.7862463832815756\tTraining Loss: 38.39496197608857\tTesting Loss: 27.946828159899837\n",
      "Iteration: 52\tAccuracy: 0.7741532903187713\tTraining Loss: 37.79246103115565\tTesting Loss: 33.39497326806389\n",
      "Iteration: 53\tAccuracy: 0.7361824389600167\tTraining Loss: 36.80917585112964\tTesting Loss: 42.18186951120237\n",
      "Iteration: 54\tAccuracy: 0.7575040954668485\tTraining Loss: 37.77209933120233\tTesting Loss: 33.55890638268274\n",
      "Iteration: 55\tAccuracy: 0.7603100874124686\tTraining Loss: 37.0672203584371\tTesting Loss: 39.902383049642225\n",
      "Iteration: 56\tAccuracy: 0.7091834471155363\tTraining Loss: 36.37121011856227\tTesting Loss: 46.12058812268015\n",
      "Iteration: 57\tAccuracy: 0.6885898922674818\tTraining Loss: 36.92174260938787\tTesting Loss: 41.15686009131911\n",
      "Iteration: 58\tAccuracy: 0.7251337736367793\tTraining Loss: 36.987408792211134\tTesting Loss: 40.65073383100263\n",
      "Iteration: 59\tAccuracy: 0.7537574911217427\tTraining Loss: 37.79540013012172\tTesting Loss: 33.52856293659479\n",
      "Iteration: 60\tAccuracy: 0.7004367417396314\tTraining Loss: 37.04644454421032\tTesting Loss: 40.10505744161836\n",
      "Iteration: 61\tAccuracy: 0.7378828430536546\tTraining Loss: 37.14593429800186\tTesting Loss: 39.25939407827212\n",
      "Iteration: 62\tAccuracy: 0.7785467027494382\tTraining Loss: 37.07201481211618\tTesting Loss: 40.02074747664341\n",
      "Iteration: 63\tAccuracy: 0.7675201228766441\tTraining Loss: 38.12413325512787\tTesting Loss: 30.532717670192206\n",
      "Iteration: 64\tAccuracy: 0.720518972668879\tTraining Loss: 36.97836183279974\tTesting Loss: 40.679329557754286\n",
      "Iteration: 65\tAccuracy: 0.7116026177357443\tTraining Loss: 36.4019993301895\tTesting Loss: 45.98689460030183\n",
      "Iteration: 66\tAccuracy: 0.7658057615728698\tTraining Loss: 37.26600195374125\tTesting Loss: 38.06566736210088\n",
      "Iteration: 67\tAccuracy: 0.7580518108012891\tTraining Loss: 37.682629173920226\tTesting Loss: 34.40913605966015\n",
      "Iteration: 68\tAccuracy: 0.7174138562605805\tTraining Loss: 37.23925243473171\tTesting Loss: 38.41004689776\n",
      "Iteration: 69\tAccuracy: 0.7389388982806981\tTraining Loss: 37.03561360642568\tTesting Loss: 40.14136514611974\n",
      "Iteration: 70\tAccuracy: 0.7974302487515532\tTraining Loss: 38.600205995492814\tTesting Loss: 26.133117588555024\n",
      "Iteration: 71\tAccuracy: 0.8060088302960458\tTraining Loss: 38.26158318254465\tTesting Loss: 29.154530751484614\n",
      "Iteration: 72\tAccuracy: 0.7120104015082138\tTraining Loss: 37.19701082311338\tTesting Loss: 38.728912856389826\n",
      "Iteration: 73\tAccuracy: 0.7232897619780483\tTraining Loss: 37.347445780474644\tTesting Loss: 37.364682607407794\n",
      "Iteration: 74\tAccuracy: 0.7702943051194253\tTraining Loss: 37.535165534995016\tTesting Loss: 35.703820641161855\n",
      "Iteration: 75\tAccuracy: 0.7540069222593246\tTraining Loss: 36.846405559986685\tTesting Loss: 41.834722702362384\n",
      "Iteration: 76\tAccuracy: 0.7031947293257214\tTraining Loss: 37.2507662707674\tTesting Loss: 38.30994294157828\n",
      "Iteration: 77\tAccuracy: 0.7492125884101322\tTraining Loss: 37.45801305763293\tTesting Loss: 36.40612678258756\n",
      "Iteration: 78\tAccuracy: 0.7341837342083644\tTraining Loss: 37.47435807891072\tTesting Loss: 36.19007602173056\n",
      "Iteration: 79\tAccuracy: 0.8172844089267046\tTraining Loss: 38.50118461385998\tTesting Loss: 27.05424844280874\n",
      "Iteration: 80\tAccuracy: 0.7397020273747763\tTraining Loss: 37.168657561025924\tTesting Loss: 39.014478390446776\n",
      "Iteration: 81\tAccuracy: 0.7347191525863435\tTraining Loss: 36.87447835263726\tTesting Loss: 41.572347200362486\n",
      "Iteration: 82\tAccuracy: 0.7612301794438149\tTraining Loss: 38.20565037237407\tTesting Loss: 29.651419216438928\n",
      "Iteration: 83\tAccuracy: 0.7668470899617466\tTraining Loss: 37.82675408140929\tTesting Loss: 33.10003408557743\n",
      "Iteration: 84\tAccuracy: 0.7237328149433002\tTraining Loss: 37.42237216145546\tTesting Loss: 36.66953191612054\n",
      "Iteration: 85\tAccuracy: 0.7302195544152875\tTraining Loss: 37.48937027954989\tTesting Loss: 36.06277996105239\n",
      "Iteration: 86\tAccuracy: 0.7157755770534374\tTraining Loss: 37.00914137456262\tTesting Loss: 40.421461684803994\n",
      "Iteration: 87\tAccuracy: 0.7466596962393222\tTraining Loss: 36.90637095051728\tTesting Loss: 41.32822512456337\n",
      "Iteration: 88\tAccuracy: 0.698077930234251\tTraining Loss: 37.48116325956234\tTesting Loss: 36.28349684850912\n",
      "Iteration: 89\tAccuracy: 0.7473609019723417\tTraining Loss: 37.84980920252374\tTesting Loss: 32.86899770789099\n",
      "Iteration: 90\tAccuracy: 0.7365699784041638\tTraining Loss: 36.79258045093374\tTesting Loss: 42.354234128297826\n",
      "Iteration: 91\tAccuracy: 0.7807230287548579\tTraining Loss: 37.695849273413856\tTesting Loss: 34.31852010547364\n",
      "Iteration: 92\tAccuracy: 0.7230578132316762\tTraining Loss: 37.32383066524112\tTesting Loss: 37.634781557731316\n",
      "Iteration: 93\tAccuracy: 0.7768379466517821\tTraining Loss: 37.9051518073792\tTesting Loss: 32.34121491469124\n",
      "Iteration: 94\tAccuracy: 0.7255988317252051\tTraining Loss: 37.86724905640723\tTesting Loss: 32.72890315093241\n",
      "Iteration: 95\tAccuracy: 0.7556855504351987\tTraining Loss: 37.377626042866396\tTesting Loss: 37.04944951931317\n",
      "Iteration: 96\tAccuracy: 0.7324965053643833\tTraining Loss: 36.875817874896526\tTesting Loss: 41.56841451028946\n",
      "Iteration: 97\tAccuracy: 0.7410644378147813\tTraining Loss: 37.31632385191443\tTesting Loss: 37.660385121757294\n",
      "Iteration: 98\tAccuracy: 0.6850638265375089\tTraining Loss: 37.15825564636292\tTesting Loss: 39.07280032920062\n",
      "Iteration: 99\tAccuracy: 0.7218379787390347\tTraining Loss: 37.28452244913985\tTesting Loss: 37.95071738137629\n"
     ]
    }
   ],
   "execution_count": 56
  },
  {
   "metadata": {
    "ExecuteTime": {
     "end_time": "2024-04-08T00:03:02.211404Z",
     "start_time": "2024-04-08T00:03:02.186403Z"
    }
   },
   "cell_type": "code",
   "source": [
    "# Print the average training and test losses over all iterations\n",
    "print(f\"Average Training Loss: {sum(train_losses) / len(train_losses)}\")\n",
    "print(f\"Average Test Loss: {sum(test_losses) / len(test_losses)}\")"
   ],
   "id": "56de012841c093b",
   "outputs": [
    {
     "name": "stdout",
     "output_type": "stream",
     "text": [
      "Average Training Loss: 37.42233562331678\n",
      "Average Test Loss: 36.721902984443155\n"
     ]
    }
   ],
   "execution_count": 57
  },
  {
   "metadata": {
    "ExecuteTime": {
     "end_time": "2024-04-08T00:13:16.028803Z",
     "start_time": "2024-04-08T00:13:16.005805Z"
    }
   },
   "cell_type": "code",
   "source": [
    "pickle_in = open(\"charges_model.pickle\", \"rb\")\n",
    "model = pickle.load(pickle_in)\n",
    "train_dataset, test_dataset, labels_train, labels_test= train_test_split(features, labels, test_size=0.1, shuffle=True)\n",
    "predictions = model.predict(test_dataset)\n"
   ],
   "id": "fff9ea8c07b95755",
   "outputs": [],
   "execution_count": 67
  },
  {
   "metadata": {
    "ExecuteTime": {
     "end_time": "2024-04-08T00:17:05.496781Z",
     "start_time": "2024-04-08T00:17:05.484782Z"
    }
   },
   "cell_type": "code",
   "source": "len(test_dataset[:,0])",
   "id": "cb433c1a279d8699",
   "outputs": [
    {
     "data": {
      "text/plain": [
       "278"
      ]
     },
     "execution_count": 77,
     "metadata": {},
     "output_type": "execute_result"
    }
   ],
   "execution_count": 77
  },
  {
   "metadata": {
    "ExecuteTime": {
     "end_time": "2024-04-08T00:19:07.691982Z",
     "start_time": "2024-04-08T00:19:07.645990Z"
    }
   },
   "cell_type": "code",
   "source": [
    "# Display results in a Dataframe\n",
    "results = pd.DataFrame({\n",
    "        'age': test_dataset[:, 0],\n",
    "        'smoker': test_dataset[:, 2],\n",
    "        'BMI': test_dataset[:, 1],\n",
    "        'Actual charges': labels_test,\n",
    "        'Predicted charges': predictions\n",
    "})\n",
    "results['smoker'] = results['smoker'].map({1.0: 'Yes', 0.0: 'No'})\n",
    "results.head(30)"
   ],
   "id": "8028881fc129aae2",
   "outputs": [
    {
     "data": {
      "text/plain": [
       "     age smoker     BMI  Actual charges  Predicted charges\n",
       "0   46.0     No  26.620        7.742110           8.870965\n",
       "1   45.0     No  30.495        8.413463           9.867958\n",
       "2   35.0     No  35.860        5.836520           9.031307\n",
       "3   58.0     No  28.215       12.224351          12.475194\n",
       "4   60.0     No  24.320       13.112605          11.729054\n",
       "5   60.0     No  25.740       12.142579          12.188702\n",
       "6   34.0     No  26.410        5.385338           5.715054\n",
       "7   54.0     No  23.000       12.094478           9.757809\n",
       "8   39.0     No  31.920        7.209492           8.785257\n",
       "9   31.0     No  38.390        4.463205           8.820946\n",
       "10  53.0     No  32.300       29.186482          12.510852\n",
       "11  18.0     No  15.960        1.694796          -1.784813\n",
       "12  35.0     No  34.770        5.729005           8.678479\n",
       "13  40.0     No  29.810        6.500236           8.359587\n",
       "14  50.0     No  32.300        9.630397          11.738868\n",
       "15  23.0     No  18.715       21.595382           0.393609\n",
       "16  36.0     No  27.550        6.746742           6.598723\n",
       "17  44.0     No  22.135        8.302536           6.904533\n",
       "18  23.0     No  33.400       10.795937           5.147081\n",
       "19  49.0     No  36.850        8.125784          12.954356\n",
       "20  22.0     No  31.730        2.254797           4.349182\n",
       "21  47.0    Yes  38.940       44.202654          36.946785\n",
       "22  51.0    Yes  38.060       44.400406          37.691244\n",
       "23  61.0     No  22.040       13.616359          11.248356\n",
       "24  34.0     No  33.700        5.012471           8.074797\n",
       "25  32.0    Yes  17.765       32.734186          26.232608\n",
       "26  61.0     No  23.655       13.129603          11.771124\n",
       "27  39.0    Yes  35.300       40.103890          33.709909\n",
       "28  39.0     No  34.100        7.418522           9.490914\n",
       "29  51.0     No  30.030        9.377905          11.261407"
      ],
      "text/html": [
       "<div>\n",
       "<style scoped>\n",
       "    .dataframe tbody tr th:only-of-type {\n",
       "        vertical-align: middle;\n",
       "    }\n",
       "\n",
       "    .dataframe tbody tr th {\n",
       "        vertical-align: top;\n",
       "    }\n",
       "\n",
       "    .dataframe thead th {\n",
       "        text-align: right;\n",
       "    }\n",
       "</style>\n",
       "<table border=\"1\" class=\"dataframe\">\n",
       "  <thead>\n",
       "    <tr style=\"text-align: right;\">\n",
       "      <th></th>\n",
       "      <th>age</th>\n",
       "      <th>smoker</th>\n",
       "      <th>BMI</th>\n",
       "      <th>Actual charges</th>\n",
       "      <th>Predicted charges</th>\n",
       "    </tr>\n",
       "  </thead>\n",
       "  <tbody>\n",
       "    <tr>\n",
       "      <th>0</th>\n",
       "      <td>46.0</td>\n",
       "      <td>No</td>\n",
       "      <td>26.620</td>\n",
       "      <td>7.742110</td>\n",
       "      <td>8.870965</td>\n",
       "    </tr>\n",
       "    <tr>\n",
       "      <th>1</th>\n",
       "      <td>45.0</td>\n",
       "      <td>No</td>\n",
       "      <td>30.495</td>\n",
       "      <td>8.413463</td>\n",
       "      <td>9.867958</td>\n",
       "    </tr>\n",
       "    <tr>\n",
       "      <th>2</th>\n",
       "      <td>35.0</td>\n",
       "      <td>No</td>\n",
       "      <td>35.860</td>\n",
       "      <td>5.836520</td>\n",
       "      <td>9.031307</td>\n",
       "    </tr>\n",
       "    <tr>\n",
       "      <th>3</th>\n",
       "      <td>58.0</td>\n",
       "      <td>No</td>\n",
       "      <td>28.215</td>\n",
       "      <td>12.224351</td>\n",
       "      <td>12.475194</td>\n",
       "    </tr>\n",
       "    <tr>\n",
       "      <th>4</th>\n",
       "      <td>60.0</td>\n",
       "      <td>No</td>\n",
       "      <td>24.320</td>\n",
       "      <td>13.112605</td>\n",
       "      <td>11.729054</td>\n",
       "    </tr>\n",
       "    <tr>\n",
       "      <th>5</th>\n",
       "      <td>60.0</td>\n",
       "      <td>No</td>\n",
       "      <td>25.740</td>\n",
       "      <td>12.142579</td>\n",
       "      <td>12.188702</td>\n",
       "    </tr>\n",
       "    <tr>\n",
       "      <th>6</th>\n",
       "      <td>34.0</td>\n",
       "      <td>No</td>\n",
       "      <td>26.410</td>\n",
       "      <td>5.385338</td>\n",
       "      <td>5.715054</td>\n",
       "    </tr>\n",
       "    <tr>\n",
       "      <th>7</th>\n",
       "      <td>54.0</td>\n",
       "      <td>No</td>\n",
       "      <td>23.000</td>\n",
       "      <td>12.094478</td>\n",
       "      <td>9.757809</td>\n",
       "    </tr>\n",
       "    <tr>\n",
       "      <th>8</th>\n",
       "      <td>39.0</td>\n",
       "      <td>No</td>\n",
       "      <td>31.920</td>\n",
       "      <td>7.209492</td>\n",
       "      <td>8.785257</td>\n",
       "    </tr>\n",
       "    <tr>\n",
       "      <th>9</th>\n",
       "      <td>31.0</td>\n",
       "      <td>No</td>\n",
       "      <td>38.390</td>\n",
       "      <td>4.463205</td>\n",
       "      <td>8.820946</td>\n",
       "    </tr>\n",
       "    <tr>\n",
       "      <th>10</th>\n",
       "      <td>53.0</td>\n",
       "      <td>No</td>\n",
       "      <td>32.300</td>\n",
       "      <td>29.186482</td>\n",
       "      <td>12.510852</td>\n",
       "    </tr>\n",
       "    <tr>\n",
       "      <th>11</th>\n",
       "      <td>18.0</td>\n",
       "      <td>No</td>\n",
       "      <td>15.960</td>\n",
       "      <td>1.694796</td>\n",
       "      <td>-1.784813</td>\n",
       "    </tr>\n",
       "    <tr>\n",
       "      <th>12</th>\n",
       "      <td>35.0</td>\n",
       "      <td>No</td>\n",
       "      <td>34.770</td>\n",
       "      <td>5.729005</td>\n",
       "      <td>8.678479</td>\n",
       "    </tr>\n",
       "    <tr>\n",
       "      <th>13</th>\n",
       "      <td>40.0</td>\n",
       "      <td>No</td>\n",
       "      <td>29.810</td>\n",
       "      <td>6.500236</td>\n",
       "      <td>8.359587</td>\n",
       "    </tr>\n",
       "    <tr>\n",
       "      <th>14</th>\n",
       "      <td>50.0</td>\n",
       "      <td>No</td>\n",
       "      <td>32.300</td>\n",
       "      <td>9.630397</td>\n",
       "      <td>11.738868</td>\n",
       "    </tr>\n",
       "    <tr>\n",
       "      <th>15</th>\n",
       "      <td>23.0</td>\n",
       "      <td>No</td>\n",
       "      <td>18.715</td>\n",
       "      <td>21.595382</td>\n",
       "      <td>0.393609</td>\n",
       "    </tr>\n",
       "    <tr>\n",
       "      <th>16</th>\n",
       "      <td>36.0</td>\n",
       "      <td>No</td>\n",
       "      <td>27.550</td>\n",
       "      <td>6.746742</td>\n",
       "      <td>6.598723</td>\n",
       "    </tr>\n",
       "    <tr>\n",
       "      <th>17</th>\n",
       "      <td>44.0</td>\n",
       "      <td>No</td>\n",
       "      <td>22.135</td>\n",
       "      <td>8.302536</td>\n",
       "      <td>6.904533</td>\n",
       "    </tr>\n",
       "    <tr>\n",
       "      <th>18</th>\n",
       "      <td>23.0</td>\n",
       "      <td>No</td>\n",
       "      <td>33.400</td>\n",
       "      <td>10.795937</td>\n",
       "      <td>5.147081</td>\n",
       "    </tr>\n",
       "    <tr>\n",
       "      <th>19</th>\n",
       "      <td>49.0</td>\n",
       "      <td>No</td>\n",
       "      <td>36.850</td>\n",
       "      <td>8.125784</td>\n",
       "      <td>12.954356</td>\n",
       "    </tr>\n",
       "    <tr>\n",
       "      <th>20</th>\n",
       "      <td>22.0</td>\n",
       "      <td>No</td>\n",
       "      <td>31.730</td>\n",
       "      <td>2.254797</td>\n",
       "      <td>4.349182</td>\n",
       "    </tr>\n",
       "    <tr>\n",
       "      <th>21</th>\n",
       "      <td>47.0</td>\n",
       "      <td>Yes</td>\n",
       "      <td>38.940</td>\n",
       "      <td>44.202654</td>\n",
       "      <td>36.946785</td>\n",
       "    </tr>\n",
       "    <tr>\n",
       "      <th>22</th>\n",
       "      <td>51.0</td>\n",
       "      <td>Yes</td>\n",
       "      <td>38.060</td>\n",
       "      <td>44.400406</td>\n",
       "      <td>37.691244</td>\n",
       "    </tr>\n",
       "    <tr>\n",
       "      <th>23</th>\n",
       "      <td>61.0</td>\n",
       "      <td>No</td>\n",
       "      <td>22.040</td>\n",
       "      <td>13.616359</td>\n",
       "      <td>11.248356</td>\n",
       "    </tr>\n",
       "    <tr>\n",
       "      <th>24</th>\n",
       "      <td>34.0</td>\n",
       "      <td>No</td>\n",
       "      <td>33.700</td>\n",
       "      <td>5.012471</td>\n",
       "      <td>8.074797</td>\n",
       "    </tr>\n",
       "    <tr>\n",
       "      <th>25</th>\n",
       "      <td>32.0</td>\n",
       "      <td>Yes</td>\n",
       "      <td>17.765</td>\n",
       "      <td>32.734186</td>\n",
       "      <td>26.232608</td>\n",
       "    </tr>\n",
       "    <tr>\n",
       "      <th>26</th>\n",
       "      <td>61.0</td>\n",
       "      <td>No</td>\n",
       "      <td>23.655</td>\n",
       "      <td>13.129603</td>\n",
       "      <td>11.771124</td>\n",
       "    </tr>\n",
       "    <tr>\n",
       "      <th>27</th>\n",
       "      <td>39.0</td>\n",
       "      <td>Yes</td>\n",
       "      <td>35.300</td>\n",
       "      <td>40.103890</td>\n",
       "      <td>33.709909</td>\n",
       "    </tr>\n",
       "    <tr>\n",
       "      <th>28</th>\n",
       "      <td>39.0</td>\n",
       "      <td>No</td>\n",
       "      <td>34.100</td>\n",
       "      <td>7.418522</td>\n",
       "      <td>9.490914</td>\n",
       "    </tr>\n",
       "    <tr>\n",
       "      <th>29</th>\n",
       "      <td>51.0</td>\n",
       "      <td>No</td>\n",
       "      <td>30.030</td>\n",
       "      <td>9.377905</td>\n",
       "      <td>11.261407</td>\n",
       "    </tr>\n",
       "  </tbody>\n",
       "</table>\n",
       "</div>"
      ]
     },
     "execution_count": 80,
     "metadata": {},
     "output_type": "execute_result"
    }
   ],
   "execution_count": 80
  }
 ],
 "metadata": {
  "kernelspec": {
   "display_name": "Python 3",
   "language": "python",
   "name": "python3"
  },
  "language_info": {
   "codemirror_mode": {
    "name": "ipython",
    "version": 2
   },
   "file_extension": ".py",
   "mimetype": "text/x-python",
   "name": "python",
   "nbconvert_exporter": "python",
   "pygments_lexer": "ipython2",
   "version": "2.7.6"
  }
 },
 "nbformat": 4,
 "nbformat_minor": 5
}
